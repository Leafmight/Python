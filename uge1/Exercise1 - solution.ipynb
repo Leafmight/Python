{
 "cells": [
  {
   "cell_type": "code",
   "execution_count": null,
   "metadata": {},
   "outputs": [],
   "source": [
    "## Part 1 - Create 5 list comprehensions to solve the following 5 problems:"
   ]
  },
  {
   "cell_type": "code",
   "execution_count": 104,
   "metadata": {},
   "outputs": [
    {
     "name": "stdout",
     "output_type": "stream",
     "text": [
      "['Hans', 'Henrik']\n"
     ]
    }
   ],
   "source": [
    "# A. Iterate a list of names to return a list of the names starting with H\n",
    "names = [\"Mads\", \"Jacob\", \"Hans\", \"Henrik\"]\n",
    "first_letters = ['H']\n",
    "output_names = [name for name in names if (name[0] in first_letters)]\n",
    "print(output_names)"
   ]
  },
  {
   "cell_type": "code",
   "execution_count": 20,
   "metadata": {},
   "outputs": [
    {
     "name": "stdout",
     "output_type": "stream",
     "text": [
      "[0, 1, 8, 27, 64, 125, 216, 343, 512, 729, 1000, 1331, 1728, 2197, 2744, 3375, 4096, 4913, 5832, 6859, 8000, 9261, 10648, 12167, 13824, 15625, 17576, 19683, 21952, 24389, 27000, 29791, 32768, 35937, 39304, 42875, 46656, 50653, 54872, 59319, 64000, 68921, 74088, 79507, 85184, 91125, 97336, 103823, 110592, 117649, 125000, 132651, 140608, 148877, 157464, 166375, 175616, 185193, 195112, 205379, 216000, 226981, 238328, 250047, 262144, 274625, 287496, 300763, 314432, 328509, 343000, 357911, 373248, 389017, 405224, 421875, 438976, 456533, 474552, 493039, 512000, 531441, 551368, 571787, 592704, 614125, 636056, 658503, 681472, 704969, 729000, 753571, 778688, 804357, 830584, 857375, 884736, 912673, 941192, 970299, 1000000]\n"
     ]
    }
   ],
   "source": [
    "# B. In one line create a list of the numbers 1-100 to the power of 3\n",
    "numbers = list([value**3 for value in range(0, 101)])\n",
    "print(numbers)\n"
   ]
  },
  {
   "cell_type": "code",
   "execution_count": 52,
   "metadata": {},
   "outputs": [
    {
     "name": "stdout",
     "output_type": "stream",
     "text": [
      "[((4, 'Mads'), (5, 'Jacob'), (4, 'Hans'), (6, 'Henrik'))]\n"
     ]
    }
   ],
   "source": [
    "# C. Iterate over each character in a string and get only those that are nummeric\n",
    "\n",
    "list_tuple = [tuple((len(name),name) for name in names)]\n",
    "print(list_tuple)\n"
   ]
  },
  {
   "cell_type": "code",
   "execution_count": 101,
   "metadata": {},
   "outputs": [
    {
     "name": "stdout",
     "output_type": "stream",
     "text": [
      "[1, 1, 1, 1, 1, 1, 1, 1, 1, 1, 1, 1]\n",
      "[44, 101]\n"
     ]
    }
   ],
   "source": [
    "# D. Iterate over each character in a string and get only those that are nummeric\n",
    "#names.append(1)\n",
    "print([number for number in names if type(number)==int])\n",
    "string_name = \"44 hej 101\"\n",
    "print([int(numb) for numb in string_name.split() if numb.isdigit()])"
   ]
  },
  {
   "cell_type": "code",
   "execution_count": 131,
   "metadata": {},
   "outputs": [
    {
     "name": "stdout",
     "output_type": "stream",
     "text": [
      "{(1, 3), (6, 6), (5, 6), (2, 1), (6, 2), (1, 6), (5, 1), (2, 5), (1, 2), (3, 3), (5, 5), (4, 4), (6, 3), (1, 5), (3, 6), (2, 2), (4, 1), (1, 1), (6, 4), (3, 2), (2, 6), (5, 4), (4, 5), (5, 2), (1, 4), (2, 3), (4, 2), (6, 5), (3, 5), (5, 3), (4, 6), (6, 1), (3, 1), (4, 3), (3, 4), (2, 4)}\n"
     ]
    }
   ],
   "source": [
    "# E. Using only a list comprehension wrapped in set() get all possible combination from throwing 2 dice\n",
    "dice = [1,2,3,4,5,6]\n",
    "diceList = set([(roll1,roll2) for roll1 in dice for roll2 in dice])\n",
    "print(diceList)\n"
   ]
  },
  {
   "cell_type": "code",
   "execution_count": null,
   "metadata": {},
   "outputs": [],
   "source": [
    "## Part 2 - Create 2 dictionary comprehensions to solve the following:"
   ]
  },
  {
   "cell_type": "markdown",
   "metadata": {},
   "source": []
  },
  {
   "cell_type": "code",
   "execution_count": 122,
   "metadata": {},
   "outputs": [
    {
     "name": "stdout",
     "output_type": "stream",
     "text": [
      "{'Mads': 4, 'Jacob': 5, 'Hans': 4, 'Henrik': 6}\n"
     ]
    }
   ],
   "source": [
    "# A. Iterate a list of names and create a dictionary where key is the name and value is the length of the name\n",
    "d={name:len(name) for name in names}\n",
    "print(d)"
   ]
  },
  {
   "cell_type": "code",
   "execution_count": 129,
   "metadata": {},
   "outputs": [
    {
     "name": "stdout",
     "output_type": "stream",
     "text": [
      "{0: 0.0, 1: 1.0, 2: 1.4142135623730951, 3: 1.7320508075688772, 4: 2.0, 5: 2.23606797749979, 6: 2.449489742783178, 7: 2.6457513110645907, 8: 2.8284271247461903, 9: 3.0}\n"
     ]
    }
   ],
   "source": [
    "# B. Iterate a list of numbers and create a dictionary with (key, value) being (number, squareroot of number)\n",
    "numbers = list([value for value in range(0, 10)])\n",
    "\n",
    "d={number:number**(1/2) for number in numbers}\n",
    "print(d)"
   ]
  },
  {
   "cell_type": "code",
   "execution_count": null,
   "metadata": {},
   "outputs": [],
   "source": [
    "## Part 3 "
   ]
  },
  {
   "cell_type": "code",
   "execution_count": 134,
   "metadata": {},
   "outputs": [
    {
     "data": {
      "text/plain": [
       "{2: 2.778,\n",
       " 3: 5.556,\n",
       " 4: 8.333,\n",
       " 5: 11.111,\n",
       " 6: 13.889,\n",
       " 7: 16.667,\n",
       " 8: 13.889,\n",
       " 9: 11.111,\n",
       " 10: 8.333,\n",
       " 11: 5.556,\n",
       " 12: 2.778}"
      ]
     },
     "execution_count": 134,
     "metadata": {},
     "output_type": "execute_result"
    }
   ],
   "source": [
    "# Progammatically using loops create a small program to produce a dictionary with all the 2 dice throw combinations as keys and their likelyhood in percent as values\n",
    "sum = [(j)+(i) for j in range(1,7) for i in range(1,7)]\n",
    "diceSum = {sumNumb: round((sum.count(sumNumb)*100/36),3) for sumNumb in sum}\n",
    "diceSum"
   ]
  }
 ],
 "metadata": {
  "kernelspec": {
   "display_name": "Python 3",
   "language": "python",
   "name": "python3"
  },
  "language_info": {
   "codemirror_mode": {
    "name": "ipython",
    "version": 3
   },
   "file_extension": ".py",
   "mimetype": "text/x-python",
   "name": "python",
   "nbconvert_exporter": "python",
   "pygments_lexer": "ipython3",
   "version": "3.7.4"
  }
 },
 "nbformat": 4,
 "nbformat_minor": 2
}
